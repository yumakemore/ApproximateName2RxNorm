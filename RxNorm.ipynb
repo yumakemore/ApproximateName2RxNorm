{
  "nbformat": 4,
  "nbformat_minor": 0,
  "metadata": {
    "colab": {
      "name": "RxNorm.ipynb",
      "provenance": [],
      "collapsed_sections": [],
      "authorship_tag": "ABX9TyNq2SlncGc4GfSTkP5gv/am",
      "include_colab_link": true
    },
    "kernelspec": {
      "name": "python3",
      "display_name": "Python 3"
    }
  },
  "cells": [
    {
      "cell_type": "markdown",
      "metadata": {
        "id": "view-in-github",
        "colab_type": "text"
      },
      "source": [
        "<a href=\"https://colab.research.google.com/github/yumakemore/ApproximateName2RxNorm/blob/master/RxNorm.ipynb\" target=\"_parent\"><img src=\"https://colab.research.google.com/assets/colab-badge.svg\" alt=\"Open In Colab\"/></a>"
      ]
    },
    {
      "cell_type": "markdown",
      "metadata": {
        "id": "LyPPOU9aSFFh",
        "colab_type": "text"
      },
      "source": [
        "\n",
        "#ApproximateName2RxNorm\n",
        "\n",
        "Byunggu Yu, Ph.D., April 1, 2020\n",
        "\n",
        "Given an approximate medication concept name, this program finds the best matching concept from RxNorm and returns the details such as standard codes, standard name, dossage, etc. \n",
        "\n",
        "Note. This is a per-record solution. If you need to treat a set of many records, check out  https://github.com/yumakemore/Medication2RxNorm\n",
        "\n",
        "Example:\n",
        "\n",
        "Input:\n",
        "\n",
        "zocor 10 mg\n",
        "\n",
        "\n",
        "Output:\n",
        "\n",
        "RxNorm ApproximateTerm Score =  75\n",
        "\n",
        "---------------------------------------------\n",
        "\n",
        "TTY = SBD\n",
        "\n",
        "PRESCRIBABLE = Y\n",
        "\n",
        "HUMAN_DRUG = US\n",
        "\n",
        "SCHEDULE = 0\n",
        "\n",
        "AVAILABLE_STRENGTH = 10 MG\n",
        "\n",
        "GENERAL_CARDINALITY = SINGLE\n",
        "\n",
        "RxCUI = 104490\n",
        "\n",
        "NDA = NDA019766\n",
        "\n",
        "UMLSCUI = C0354662\n",
        "\n",
        "MMSL_CODE = BD3081\n",
        "\n",
        "SPL_SET_ID = fdbfe194-b845-42c5-bb87-a48118bc72e7\n",
        "\n",
        "RxNorm Name = Simvastatin 10 MG Oral Tablet [Zocor]\n",
        "\n",
        "RxNorm Synonym = Zocor 10 MG Oral Tablet\n",
        "\n",
        "Prescribable Synonym = Zocor 10 MG Oral Tablet\n",
        "\n",
        "Source = Gold Standard Alchemy\n",
        "\n",
        "Source = Multum MediSource Lexicon\n",
        "\n",
        "Source = Micromedex RED BOOK\n",
        "\n",
        "Source = Metathesaurus FDA Structured Product Labels\n",
        "\n"
      ]
    },
    {
      "cell_type": "code",
      "metadata": {
        "id": "kgOhAEJc2iKu",
        "colab_type": "code",
        "colab": {}
      },
      "source": [
        "import requests\n",
        "import json\n",
        "\n",
        "def ApproximateName2RxNorm(approximate_name):\n",
        "  #e.g., approximate_name=\"zocor 10 mg\"\n",
        "  name_in_url=approximate_name.replace(' ','%20')\n",
        "  TermRequest = \"https://rxnav.nlm.nih.gov/REST/approximateTerm.json?term=\"+name_in_url+\"&maxEntries=1\"\n",
        "\n",
        "  resp = requests.get(TermRequest)\n",
        "  if resp.status_code != 200:\n",
        "      # This means something went wrong.\n",
        "      raise ApiError('GET /tasks/ {}'.format(resp.status_code))\n",
        "\n",
        "\n",
        "  #print(resp.text)\n",
        "  items = resp.json()\n",
        "  rxcui=[]\n",
        "  rxcui_approximateTerm_score=[]\n",
        "  rxcui_attributes_text=[]\n",
        "  rxcui_attributes_json=[]\n",
        "  for item in items['approximateGroup']['candidate']:\n",
        "    #print(item)\n",
        "    #print(item['rxcui'])\n",
        "    #print(\"RxNorm ApproximateTerm Score = \",item['score'])\n",
        "    rxcui.append(item['rxcui'])\n",
        "    rxcui_request = \"https://rxnav.nlm.nih.gov/REST/rxcui/\"+item['rxcui']+\"/allProperties.json?prop=all\"\n",
        "    rxcui_resp = requests.get(rxcui_request)\n",
        "    if rxcui_resp.status_code != 200:\n",
        "      # This means something went wrong.\n",
        "      raise ApiError('GET /tasks/ {}'.format(rxcui_resp.status_code))\n",
        "\n",
        "    #print(rxcui_resp.text, \"\\n\")\n",
        "    rxcui_attributes_text.append(rxcui_resp.text)\n",
        "    rxcui_attributes_json.append(rxcui_resp.json())\n",
        "    rxcui_approximateTerm_score.append(item['score'])\n",
        "\n",
        "  selected_concept=-1\n",
        "  for i in range(0,len(rxcui_attributes_json)):\n",
        "    #print(\"All Attributes of RxCUI=\",rxcui[i],\": \",rxcui_attributes_text[i])\n",
        "    for j in range(0, len(rxcui_attributes_json[i]['propConceptGroup']['propConcept'])):\n",
        "      #print(rxcui_attributes_json[i]['propConceptGroup']['propConcept'][j]['propName'],\"=\",\n",
        "      #      rxcui_attributes_json[i]['propConceptGroup']['propConcept'][j]['propValue'])\n",
        "      if rxcui_attributes_json[i]['propConceptGroup']['propConcept'][j]['propName']==\"NDA\":\n",
        "        selected_concept=i\n",
        "        break\n",
        "    if selected_concept != -1: break\n",
        "\n",
        "  return rxcui_attributes_json[selected_concept], rxcui_approximateTerm_score[selected_concept]\n",
        "    "
      ],
      "execution_count": 0,
      "outputs": []
    },
    {
      "cell_type": "code",
      "metadata": {
        "id": "ZRwaFKOiUbI-",
        "colab_type": "code",
        "outputId": "04d91f32-ee23-42f6-91d8-27e14de365ed",
        "colab": {
          "base_uri": "https://localhost:8080/",
          "height": 323
        }
      },
      "source": [
        "Myname = input(\"Please enter a concept name (e.g., zocor 10 mg):\\n\")\n",
        "print(\"\\n... Wait. I am querying RxNorm ...\\n\")\n",
        "RxNormData, score =ApproximateName2RxNorm(Myname)\n",
        "\n",
        "print(\"RxNorm ApproximateTerm Score = \",score)\n",
        "print(\"---------------------------------------------\")\n",
        "for j in range(0, len(RxNormData['propConceptGroup']['propConcept'])):\n",
        "  print(RxNormData['propConceptGroup']['propConcept'][j]['propName'],\"=\",\n",
        "        RxNormData['propConceptGroup']['propConcept'][j]['propValue'])\n"
      ],
      "execution_count": 0,
      "outputs": [
        {
          "output_type": "stream",
          "text": [
            "Please enter a concept name (e.g., zocor 10 mg):\n",
            "tylen ol\n",
            "\n",
            "... Wait. I am querying RxNorm ...\n",
            "\n",
            "RxNorm ApproximateTerm Score =  50\n",
            "---------------------------------------------\n",
            "TTY = BN\n",
            "PRESCRIBABLE = Y\n",
            "BN_CARDINALITY = single\n",
            "GENERAL_CARDINALITY = SINGLE\n",
            "RxCUI = 202433\n",
            "UMLSCUI = C0699142\n",
            "MESH = D000082\n",
            "MMSL_CODE = BN6732\n",
            "RxNorm Name = Tylenol\n",
            "Source = Multum MediSource Lexicon\n",
            "Source = Medical Subject Headings\n"
          ],
          "name": "stdout"
        }
      ]
    }
  ]
}